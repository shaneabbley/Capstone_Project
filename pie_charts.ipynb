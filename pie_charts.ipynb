{
 "cells": [
  {
   "cell_type": "code",
   "execution_count": 2,
   "id": "27e2c0d2",
   "metadata": {},
   "outputs": [],
   "source": [
    "# Add Matplotlib inline magic command\n",
    "%matplotlib inline\n",
    "# Dependencies and Setup\n",
    "import matplotlib.pyplot as plt\n",
    "import pandas as pd\n",
    "import numpy as np\n",
    "import seaborn as sns\n",
    "\n",
    "# File to Load (Remember to change these)\n",
    "cancer_patient_to_load = \"Resources/CleanedData.csv\""
   ]
  },
  {
   "cell_type": "code",
   "execution_count": 3,
   "id": "d54bc621",
   "metadata": {},
   "outputs": [
    {
     "data": {
      "text/html": [
       "<div>\n",
       "<style scoped>\n",
       "    .dataframe tbody tr th:only-of-type {\n",
       "        vertical-align: middle;\n",
       "    }\n",
       "\n",
       "    .dataframe tbody tr th {\n",
       "        vertical-align: top;\n",
       "    }\n",
       "\n",
       "    .dataframe thead th {\n",
       "        text-align: right;\n",
       "    }\n",
       "</style>\n",
       "<table border=\"1\" class=\"dataframe\">\n",
       "  <thead>\n",
       "    <tr style=\"text-align: right;\">\n",
       "      <th></th>\n",
       "      <th>Unnamed: 0</th>\n",
       "      <th>Patient Id</th>\n",
       "      <th>Age</th>\n",
       "      <th>Gender</th>\n",
       "      <th>Air Pollution</th>\n",
       "      <th>Alcohol use</th>\n",
       "      <th>Dust Allergy</th>\n",
       "      <th>OccuPational Hazards</th>\n",
       "      <th>Genetic Risk</th>\n",
       "      <th>chronic Lung Disease</th>\n",
       "      <th>Balanced Diet</th>\n",
       "      <th>Obesity</th>\n",
       "      <th>Smoking</th>\n",
       "      <th>Passive Smoker</th>\n",
       "      <th>Cancer Severity</th>\n",
       "    </tr>\n",
       "  </thead>\n",
       "  <tbody>\n",
       "    <tr>\n",
       "      <th>0</th>\n",
       "      <td>0</td>\n",
       "      <td>P1</td>\n",
       "      <td>33</td>\n",
       "      <td>1</td>\n",
       "      <td>2</td>\n",
       "      <td>4</td>\n",
       "      <td>5</td>\n",
       "      <td>4</td>\n",
       "      <td>3</td>\n",
       "      <td>2</td>\n",
       "      <td>2</td>\n",
       "      <td>4</td>\n",
       "      <td>3</td>\n",
       "      <td>2</td>\n",
       "      <td>1</td>\n",
       "    </tr>\n",
       "    <tr>\n",
       "      <th>1</th>\n",
       "      <td>1</td>\n",
       "      <td>P10</td>\n",
       "      <td>17</td>\n",
       "      <td>1</td>\n",
       "      <td>3</td>\n",
       "      <td>1</td>\n",
       "      <td>5</td>\n",
       "      <td>3</td>\n",
       "      <td>4</td>\n",
       "      <td>2</td>\n",
       "      <td>2</td>\n",
       "      <td>2</td>\n",
       "      <td>2</td>\n",
       "      <td>4</td>\n",
       "      <td>2</td>\n",
       "    </tr>\n",
       "    <tr>\n",
       "      <th>2</th>\n",
       "      <td>2</td>\n",
       "      <td>P100</td>\n",
       "      <td>35</td>\n",
       "      <td>1</td>\n",
       "      <td>4</td>\n",
       "      <td>5</td>\n",
       "      <td>6</td>\n",
       "      <td>5</td>\n",
       "      <td>5</td>\n",
       "      <td>4</td>\n",
       "      <td>6</td>\n",
       "      <td>7</td>\n",
       "      <td>2</td>\n",
       "      <td>3</td>\n",
       "      <td>3</td>\n",
       "    </tr>\n",
       "    <tr>\n",
       "      <th>3</th>\n",
       "      <td>3</td>\n",
       "      <td>P1000</td>\n",
       "      <td>37</td>\n",
       "      <td>1</td>\n",
       "      <td>7</td>\n",
       "      <td>7</td>\n",
       "      <td>7</td>\n",
       "      <td>7</td>\n",
       "      <td>6</td>\n",
       "      <td>7</td>\n",
       "      <td>7</td>\n",
       "      <td>7</td>\n",
       "      <td>7</td>\n",
       "      <td>7</td>\n",
       "      <td>3</td>\n",
       "    </tr>\n",
       "    <tr>\n",
       "      <th>4</th>\n",
       "      <td>4</td>\n",
       "      <td>P101</td>\n",
       "      <td>46</td>\n",
       "      <td>1</td>\n",
       "      <td>6</td>\n",
       "      <td>8</td>\n",
       "      <td>7</td>\n",
       "      <td>7</td>\n",
       "      <td>7</td>\n",
       "      <td>6</td>\n",
       "      <td>7</td>\n",
       "      <td>7</td>\n",
       "      <td>8</td>\n",
       "      <td>7</td>\n",
       "      <td>3</td>\n",
       "    </tr>\n",
       "  </tbody>\n",
       "</table>\n",
       "</div>"
      ],
      "text/plain": [
       "   Unnamed: 0 Patient Id  Age  Gender  Air Pollution  Alcohol use  \\\n",
       "0           0         P1   33       1              2            4   \n",
       "1           1        P10   17       1              3            1   \n",
       "2           2       P100   35       1              4            5   \n",
       "3           3      P1000   37       1              7            7   \n",
       "4           4       P101   46       1              6            8   \n",
       "\n",
       "   Dust Allergy  OccuPational Hazards  Genetic Risk  chronic Lung Disease  \\\n",
       "0             5                     4             3                     2   \n",
       "1             5                     3             4                     2   \n",
       "2             6                     5             5                     4   \n",
       "3             7                     7             6                     7   \n",
       "4             7                     7             7                     6   \n",
       "\n",
       "   Balanced Diet  Obesity  Smoking  Passive Smoker  Cancer Severity  \n",
       "0              2        4        3               2                1  \n",
       "1              2        2        2               4                2  \n",
       "2              6        7        2               3                3  \n",
       "3              7        7        7               7                3  \n",
       "4              7        7        8               7                3  "
      ]
     },
     "execution_count": 3,
     "metadata": {},
     "output_type": "execute_result"
    }
   ],
   "source": [
    "# Read the City and Ride Data\n",
    "cancer_patient_df = pd.read_csv(cancer_patient_to_load)\n",
    "\n",
    "#Display the data table for preview\n",
    "cancer_patient_df.head()"
   ]
  },
  {
   "cell_type": "code",
   "execution_count": 4,
   "id": "88c182a5",
   "metadata": {},
   "outputs": [
    {
     "data": {
      "text/html": [
       "<div>\n",
       "<style scoped>\n",
       "    .dataframe tbody tr th:only-of-type {\n",
       "        vertical-align: middle;\n",
       "    }\n",
       "\n",
       "    .dataframe tbody tr th {\n",
       "        vertical-align: top;\n",
       "    }\n",
       "\n",
       "    .dataframe thead th {\n",
       "        text-align: right;\n",
       "    }\n",
       "</style>\n",
       "<table border=\"1\" class=\"dataframe\">\n",
       "  <thead>\n",
       "    <tr style=\"text-align: right;\">\n",
       "      <th></th>\n",
       "      <th>Unnamed: 0</th>\n",
       "      <th>Patient Id</th>\n",
       "      <th>Age</th>\n",
       "      <th>Gender</th>\n",
       "      <th>Air Pollution</th>\n",
       "      <th>Alcohol use</th>\n",
       "      <th>Dust Allergy</th>\n",
       "      <th>OccuPational Hazards</th>\n",
       "      <th>Genetic Risk</th>\n",
       "      <th>chronic Lung Disease</th>\n",
       "      <th>Balanced Diet</th>\n",
       "      <th>Obesity</th>\n",
       "      <th>Smoking</th>\n",
       "      <th>Passive Smoker</th>\n",
       "      <th>Level</th>\n",
       "    </tr>\n",
       "  </thead>\n",
       "  <tbody>\n",
       "    <tr>\n",
       "      <th>0</th>\n",
       "      <td>0</td>\n",
       "      <td>P1</td>\n",
       "      <td>33</td>\n",
       "      <td>1</td>\n",
       "      <td>2</td>\n",
       "      <td>4</td>\n",
       "      <td>5</td>\n",
       "      <td>4</td>\n",
       "      <td>3</td>\n",
       "      <td>2</td>\n",
       "      <td>2</td>\n",
       "      <td>4</td>\n",
       "      <td>3</td>\n",
       "      <td>2</td>\n",
       "      <td>1</td>\n",
       "    </tr>\n",
       "    <tr>\n",
       "      <th>1</th>\n",
       "      <td>1</td>\n",
       "      <td>P10</td>\n",
       "      <td>17</td>\n",
       "      <td>1</td>\n",
       "      <td>3</td>\n",
       "      <td>1</td>\n",
       "      <td>5</td>\n",
       "      <td>3</td>\n",
       "      <td>4</td>\n",
       "      <td>2</td>\n",
       "      <td>2</td>\n",
       "      <td>2</td>\n",
       "      <td>2</td>\n",
       "      <td>4</td>\n",
       "      <td>2</td>\n",
       "    </tr>\n",
       "    <tr>\n",
       "      <th>2</th>\n",
       "      <td>2</td>\n",
       "      <td>P100</td>\n",
       "      <td>35</td>\n",
       "      <td>1</td>\n",
       "      <td>4</td>\n",
       "      <td>5</td>\n",
       "      <td>6</td>\n",
       "      <td>5</td>\n",
       "      <td>5</td>\n",
       "      <td>4</td>\n",
       "      <td>6</td>\n",
       "      <td>7</td>\n",
       "      <td>2</td>\n",
       "      <td>3</td>\n",
       "      <td>3</td>\n",
       "    </tr>\n",
       "    <tr>\n",
       "      <th>3</th>\n",
       "      <td>3</td>\n",
       "      <td>P1000</td>\n",
       "      <td>37</td>\n",
       "      <td>1</td>\n",
       "      <td>7</td>\n",
       "      <td>7</td>\n",
       "      <td>7</td>\n",
       "      <td>7</td>\n",
       "      <td>6</td>\n",
       "      <td>7</td>\n",
       "      <td>7</td>\n",
       "      <td>7</td>\n",
       "      <td>7</td>\n",
       "      <td>7</td>\n",
       "      <td>3</td>\n",
       "    </tr>\n",
       "    <tr>\n",
       "      <th>4</th>\n",
       "      <td>4</td>\n",
       "      <td>P101</td>\n",
       "      <td>46</td>\n",
       "      <td>1</td>\n",
       "      <td>6</td>\n",
       "      <td>8</td>\n",
       "      <td>7</td>\n",
       "      <td>7</td>\n",
       "      <td>7</td>\n",
       "      <td>6</td>\n",
       "      <td>7</td>\n",
       "      <td>7</td>\n",
       "      <td>8</td>\n",
       "      <td>7</td>\n",
       "      <td>3</td>\n",
       "    </tr>\n",
       "  </tbody>\n",
       "</table>\n",
       "</div>"
      ],
      "text/plain": [
       "   Unnamed: 0 Patient Id  Age  Gender  Air Pollution  Alcohol use  \\\n",
       "0           0         P1   33       1              2            4   \n",
       "1           1        P10   17       1              3            1   \n",
       "2           2       P100   35       1              4            5   \n",
       "3           3      P1000   37       1              7            7   \n",
       "4           4       P101   46       1              6            8   \n",
       "\n",
       "   Dust Allergy  OccuPational Hazards  Genetic Risk  chronic Lung Disease  \\\n",
       "0             5                     4             3                     2   \n",
       "1             5                     3             4                     2   \n",
       "2             6                     5             5                     4   \n",
       "3             7                     7             6                     7   \n",
       "4             7                     7             7                     6   \n",
       "\n",
       "   Balanced Diet  Obesity  Smoking  Passive Smoker  Level  \n",
       "0              2        4        3               2      1  \n",
       "1              2        2        2               4      2  \n",
       "2              6        7        2               3      3  \n",
       "3              7        7        7               7      3  \n",
       "4              7        7        8               7      3  "
      ]
     },
     "execution_count": 4,
     "metadata": {},
     "output_type": "execute_result"
    }
   ],
   "source": [
    "cancer_patient_df = cancer_patient_df.rename(columns={\"Cancer Severity\":\"Level\"})\n",
    "cancer_patient_df.head()"
   ]
  },
  {
   "cell_type": "code",
   "execution_count": 5,
   "id": "07ee0f31",
   "metadata": {},
   "outputs": [
    {
     "data": {
      "text/plain": [
       "Level\n",
       "1    303\n",
       "2    332\n",
       "3    365\n",
       "Name: Patient Id, dtype: int64"
      ]
     },
     "execution_count": 5,
     "metadata": {},
     "output_type": "execute_result"
    }
   ],
   "source": [
    "#Calculate the total cases grouped by severity level\n",
    "total_cancer = cancer_patient_df.groupby([\"Level\"]).count()[\"Patient Id\"]\n",
    "total_cancer"
   ]
  },
  {
   "cell_type": "code",
   "execution_count": 85,
   "id": "35f5c84a",
   "metadata": {},
   "outputs": [
    {
     "data": {
      "image/png": "[encoded data removed]",
      "text/plain": [
       "<Figure size 720x432 with 1 Axes>"
      ]
     },
     "metadata": {},
     "output_type": "display_data"
    },
    {
     "data": {
      "image/png": "[encoded data removed]",
      "text/plain": [
       "<Figure size 432x288 with 1 Axes>"
      ]
     },
     "metadata": {},
     "output_type": "display_data"
    }
   ],
   "source": [
    "import matplotlib as mpl\n",
    "\n",
    "plt.subplots(figsize=(10,6))\n",
    "\n",
    "#explsion\n",
    "#explode = (0.05,0.05,0.05)\n",
    "\n",
    "# create a figure and set different background\n",
    "fig = plt.figure()\n",
    "fig.patch.set_facecolor('black')\n",
    "\n",
    "# Change color of text\n",
    "plt.rcParams['text.color'] = 'white'\n",
    "\n",
    "colors = [\"lightblue\", \"Slateblue\", \"blue\"]\n",
    "plt.pie(cancer_patient_df[\"Level\"].value_counts() ,labels=[\"Level 1\",\"Level 2\",\"Level 3\"],\n",
    "        pctdistance=0.75, \n",
    "       autopct='%1.1f%%', textprops={'fontsize': 16},\n",
    "       colors=colors,\n",
    "        shadow=True, startangle=90\n",
    "       )\n",
    "\n",
    "\n",
    "#draw circle\n",
    "centre_circle = plt.Circle((0,0),0.50,fc='black')\n",
    "fig = plt.gcf()\n",
    "fig.gca().add_artist(centre_circle)\n",
    "\n",
    "\n",
    "plt.axis('equal')\n",
    "plt.tight_layout()\n",
    "plt.title(\"Cancer Severity by Level\", fontsize=20)\n",
    "mpl.rcParams['font.size'] = 20\n",
    "\n",
    "plt.savefig(\"Resources/images/SV4.png\")\n",
    "plt.show()\n"
   ]
  },
  {
   "cell_type": "code",
   "execution_count": 7,
   "id": "335fef2b",
   "metadata": {},
   "outputs": [
    {
     "data": {
      "text/plain": [
       "6    326\n",
       "2    201\n",
       "3    173\n",
       "1    141\n",
       "4     90\n",
       "7     30\n",
       "5     20\n",
       "8     19\n",
       "Name: Air Pollution, dtype: int64"
      ]
     },
     "execution_count": 7,
     "metadata": {},
     "output_type": "execute_result"
    }
   ],
   "source": [
    "cancer_patient_df[\"Air Pollution\"].value_counts()"
   ]
  },
  {
   "cell_type": "code",
   "execution_count": 8,
   "id": "da750130",
   "metadata": {},
   "outputs": [
    {
     "data": {
      "text/plain": [
       "2    202\n",
       "8    188\n",
       "7    167\n",
       "1    152\n",
       "5     90\n",
       "3     80\n",
       "6     80\n",
       "4     41\n",
       "Name: Alcohol use, dtype: int64"
      ]
     },
     "execution_count": 8,
     "metadata": {},
     "output_type": "execute_result"
    }
   ],
   "source": [
    "cancer_patient_df[\"Alcohol use\"].value_counts()\n"
   ]
  },
  {
   "cell_type": "code",
   "execution_count": 9,
   "id": "14993051",
   "metadata": {},
   "outputs": [
    {
     "data": {
      "text/plain": [
       "7    405\n",
       "4    133\n",
       "5    111\n",
       "6    110\n",
       "3    101\n",
       "2     70\n",
       "1     60\n",
       "8     10\n",
       "Name: Dust Allergy, dtype: int64"
      ]
     },
     "execution_count": 9,
     "metadata": {},
     "output_type": "execute_result"
    }
   ],
   "source": [
    "cancer_patient_df[\"Dust Allergy\"].value_counts()"
   ]
  },
  {
   "cell_type": "code",
   "execution_count": 10,
   "id": "05ded33f",
   "metadata": {},
   "outputs": [
    {
     "data": {
      "text/plain": [
       "7    365\n",
       "3    151\n",
       "2    132\n",
       "5    130\n",
       "4    112\n",
       "1     50\n",
       "6     30\n",
       "8     30\n",
       "Name: OccuPational Hazards, dtype: int64"
      ]
     },
     "execution_count": 10,
     "metadata": {},
     "output_type": "execute_result"
    }
   ],
   "source": [
    "cancer_patient_df[\"OccuPational Hazards\"].value_counts()"
   ]
  },
  {
   "cell_type": "code",
   "execution_count": 11,
   "id": "9d184291",
   "metadata": {},
   "outputs": [
    {
     "data": {
      "text/plain": [
       "7    327\n",
       "2    212\n",
       "3    173\n",
       "6    108\n",
       "5    100\n",
       "4     40\n",
       "1     40\n",
       "Name: Genetic Risk, dtype: int64"
      ]
     },
     "execution_count": 11,
     "metadata": {},
     "output_type": "execute_result"
    }
   ],
   "source": [
    "cancer_patient_df[\"Genetic Risk\"].value_counts()"
   ]
  },
  {
   "cell_type": "code",
   "execution_count": 12,
   "id": "66b5bbf1",
   "metadata": {},
   "outputs": [
    {
     "data": {
      "text/plain": [
       "6    308\n",
       "2    173\n",
       "4    141\n",
       "3    141\n",
       "7    107\n",
       "5     80\n",
       "1     50\n",
       "Name: chronic Lung Disease, dtype: int64"
      ]
     },
     "execution_count": 12,
     "metadata": {},
     "output_type": "execute_result"
    }
   ],
   "source": [
    "cancer_patient_df[\"chronic Lung Disease\"].value_counts()"
   ]
  },
  {
   "cell_type": "code",
   "execution_count": 13,
   "id": "0d196c2c",
   "metadata": {},
   "outputs": [
    {
     "data": {
      "text/plain": [
       "7    296\n",
       "2    231\n",
       "3    173\n",
       "6    159\n",
       "4     61\n",
       "5     40\n",
       "1     40\n",
       "Name: Balanced Diet, dtype: int64"
      ]
     },
     "execution_count": 13,
     "metadata": {},
     "output_type": "execute_result"
    }
   ],
   "source": [
    "cancer_patient_df[\"Balanced Diet\"].value_counts()"
   ]
  },
  {
   "cell_type": "code",
   "execution_count": 14,
   "id": "04af51ca",
   "metadata": {},
   "outputs": [
    {
     "data": {
      "text/plain": [
       "7    356\n",
       "3    193\n",
       "4    191\n",
       "2    140\n",
       "1     70\n",
       "6     30\n",
       "5     20\n",
       "Name: Obesity, dtype: int64"
      ]
     },
     "execution_count": 14,
     "metadata": {},
     "output_type": "execute_result"
    }
   ],
   "source": [
    "cancer_patient_df[\"Obesity\"].value_counts()"
   ]
  },
  {
   "cell_type": "code",
   "execution_count": 15,
   "id": "b61b63d5",
   "metadata": {},
   "outputs": [
    {
     "data": {
      "text/plain": [
       "2    222\n",
       "7    207\n",
       "1    181\n",
       "3    172\n",
       "8     89\n",
       "6     60\n",
       "4     59\n",
       "5     10\n",
       "Name: Smoking, dtype: int64"
      ]
     },
     "execution_count": 15,
     "metadata": {},
     "output_type": "execute_result"
    }
   ],
   "source": [
    "cancer_patient_df[\"Smoking\"].value_counts()"
   ]
  },
  {
   "cell_type": "code",
   "execution_count": 16,
   "id": "c9259b67",
   "metadata": {},
   "outputs": [
    {
     "data": {
      "text/plain": [
       "2    284\n",
       "7    187\n",
       "4    161\n",
       "3    140\n",
       "8    108\n",
       "1     60\n",
       "6     30\n",
       "5     30\n",
       "Name: Passive Smoker, dtype: int64"
      ]
     },
     "execution_count": 16,
     "metadata": {},
     "output_type": "execute_result"
    }
   ],
   "source": [
    "cancer_patient_df[\"Passive Smoker\"].value_counts()"
   ]
  },
  {
   "cell_type": "code",
   "execution_count": 101,
   "id": "4df31fe3",
   "metadata": {},
   "outputs": [
    {
     "data": {
      "image/png": "[encoded data removed]",
      "text/plain": [
       "<Figure size 1080x720 with 1 Axes>"
      ]
     },
     "metadata": {},
     "output_type": "display_data"
    }
   ],
   "source": [
    "plt.subplots(figsize = (15,10))\n",
    "sns.despine(f)\n",
    "bins = list(range(0,4))\n",
    "sns.histplot(\n",
    "   cancer_patient_df, x= \"Level\", bins=3, hue = \"Smoking\",\n",
    "    multiple=\"stack\",palette=\"Pastel2_r\",\n",
    "    edgecolor = \"0.3\",\n",
    "    linewidth=\"01\"\n",
    ")\n",
    "plt.xticks(bins)\n",
    "plt.xlabel(\"Cancer Severity\", fontsize=16)\n",
    "plt.ylabel(\"Number of Patients\", fontsize=16)\n",
    "\n",
    "     \n",
    "plt.title(\"Smokers Rank by Severity Level\", fontsize=16)\n",
    "plt.savefig(\"Resources/images/Smoke.png\")"
   ]
  },
  {
   "cell_type": "code",
   "execution_count": 102,
   "id": "24efb737",
   "metadata": {},
   "outputs": [
    {
     "data": {
      "image/png": "[encoded data removed]",
      "text/plain": [
       "<Figure size 1080x720 with 1 Axes>"
      ]
     },
     "metadata": {},
     "output_type": "display_data"
    }
   ],
   "source": [
    "\n",
    "\n",
    "plt.subplots(figsize =(15,10))\n",
    "sns.despine(f)\n",
    "bins = list(range(0,4))\n",
    "sns.histplot(\n",
    "   cancer_patient_df, x= \"Level\", bins=3, hue = \"Alcohol use\",\n",
    "    multiple=\"stack\", palette=\"Pastel2_r\",\n",
    "    edgecolor = \"0.3\", \n",
    "    linewidth=\"0.5\", \n",
    "   \n",
    ")\n",
    "\n",
    "plt.xticks(bins)\n",
    "plt.xlabel(\"Cancer Severity\", fontsize=16)\n",
    "plt.ylabel(\"Number of Patients\", fontsize=16)\n",
    "plt.title(\"Alcohol Users Rank by Severity Level\", fontsize=16)\n",
    "plt.savefig(\"Resources/images/AU.png\")"
   ]
  },
  {
   "cell_type": "code",
   "execution_count": 103,
   "id": "322de416",
   "metadata": {},
   "outputs": [
    {
     "data": {
      "image/png": "[encoded data removed]",
      "text/plain": [
       "<Figure size 1080x720 with 1 Axes>"
      ]
     },
     "metadata": {},
     "output_type": "display_data"
    }
   ],
   "source": [
    "\n",
    "plt.subplots(figsize = (15,10))\n",
    "sns.despine(f)\n",
    "bins = list(range(0,4))\n",
    "sns.histplot(\n",
    "   cancer_patient_df, x= \"Level\",bins=3, hue = \"Passive Smoker\",\n",
    "    multiple=\"stack\",palette=\"Pastel2_r\",\n",
    "    edgecolor = \"0.3\",\n",
    "    linewidth=\"0.5\"\n",
    ")\n",
    "plt.xticks(bins)\n",
    "plt.xlabel(\"Cancer Severity\", fontsize=16)\n",
    "plt.ylabel(\"Number of Patients\", fontsize=16)\n",
    "plt.title(\"Passive Smokers Rank by Severity Level\", fontsize=16)\n",
    "plt.savefig(\"Resources/images/Passive.png\")"
   ]
  },
  {
   "cell_type": "code",
   "execution_count": null,
   "id": "d19a537c",
   "metadata": {},
   "outputs": [],
   "source": []
  }
 ],
 "metadata": {
  "kernelspec": {
   "display_name": "PythonData",
   "language": "python",
   "name": "pythondata"
  },
  "language_info": {
   "codemirror_mode": {
    "name": "ipython",
    "version": 3
   },
   "file_extension": ".py",
   "mimetype": "text/x-python",
   "name": "python",
   "nbconvert_exporter": "python",
   "pygments_lexer": "ipython3",
   "version": "3.7.11"
  }
 },
 "nbformat": 4,
 "nbformat_minor": 5
}

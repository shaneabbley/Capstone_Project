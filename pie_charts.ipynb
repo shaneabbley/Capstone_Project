{
 "cells": [
  {
   "cell_type": "code",
   "execution_count": 38,
   "id": "f2d77e97",
   "metadata": {},
   "outputs": [],
   "source": [
    "# Add Matplotlib inline magic command\n",
    "%matplotlib inline\n",
    "# Dependencies and Setup\n",
    "import matplotlib.pyplot as plt\n",
    "import pandas as pd\n",
    "import numpy as np\n",
    "import seaborn as sns\n",
    "\n",
    "# File to Load (Remember to change these)\n",
    "cancer_patient_to_load = \"Resources/CleanedData.csv\""
   ]
  },
  {
   "cell_type": "code",
   "execution_count": 39,
   "id": "25214050",
   "metadata": {},
   "outputs": [
    {
     "data": {
      "text/html": [
       "<div>\n",
       "<style scoped>\n",
       "    .dataframe tbody tr th:only-of-type {\n",
       "        vertical-align: middle;\n",
       "    }\n",
       "\n",
       "    .dataframe tbody tr th {\n",
       "        vertical-align: top;\n",
       "    }\n",
       "\n",
       "    .dataframe thead th {\n",
       "        text-align: right;\n",
       "    }\n",
       "</style>\n",
       "<table border=\"1\" class=\"dataframe\">\n",
       "  <thead>\n",
       "    <tr style=\"text-align: right;\">\n",
       "      <th></th>\n",
       "      <th>Unnamed: 0</th>\n",
       "      <th>Patient Id</th>\n",
       "      <th>Age</th>\n",
       "      <th>Gender</th>\n",
       "      <th>Air Pollution</th>\n",
       "      <th>Alcohol use</th>\n",
       "      <th>Dust Allergy</th>\n",
       "      <th>OccuPational Hazards</th>\n",
       "      <th>Genetic Risk</th>\n",
       "      <th>chronic Lung Disease</th>\n",
       "      <th>Balanced Diet</th>\n",
       "      <th>Obesity</th>\n",
       "      <th>Smoking</th>\n",
       "      <th>Passive Smoker</th>\n",
       "      <th>Cancer Severity</th>\n",
       "    </tr>\n",
       "  </thead>\n",
       "  <tbody>\n",
       "    <tr>\n",
       "      <th>0</th>\n",
       "      <td>0</td>\n",
       "      <td>P1</td>\n",
       "      <td>33</td>\n",
       "      <td>1</td>\n",
       "      <td>2</td>\n",
       "      <td>4</td>\n",
       "      <td>5</td>\n",
       "      <td>4</td>\n",
       "      <td>3</td>\n",
       "      <td>2</td>\n",
       "      <td>2</td>\n",
       "      <td>4</td>\n",
       "      <td>3</td>\n",
       "      <td>2</td>\n",
       "      <td>1</td>\n",
       "    </tr>\n",
       "    <tr>\n",
       "      <th>1</th>\n",
       "      <td>1</td>\n",
       "      <td>P10</td>\n",
       "      <td>17</td>\n",
       "      <td>1</td>\n",
       "      <td>3</td>\n",
       "      <td>1</td>\n",
       "      <td>5</td>\n",
       "      <td>3</td>\n",
       "      <td>4</td>\n",
       "      <td>2</td>\n",
       "      <td>2</td>\n",
       "      <td>2</td>\n",
       "      <td>2</td>\n",
       "      <td>4</td>\n",
       "      <td>2</td>\n",
       "    </tr>\n",
       "    <tr>\n",
       "      <th>2</th>\n",
       "      <td>2</td>\n",
       "      <td>P100</td>\n",
       "      <td>35</td>\n",
       "      <td>1</td>\n",
       "      <td>4</td>\n",
       "      <td>5</td>\n",
       "      <td>6</td>\n",
       "      <td>5</td>\n",
       "      <td>5</td>\n",
       "      <td>4</td>\n",
       "      <td>6</td>\n",
       "      <td>7</td>\n",
       "      <td>2</td>\n",
       "      <td>3</td>\n",
       "      <td>3</td>\n",
       "    </tr>\n",
       "    <tr>\n",
       "      <th>3</th>\n",
       "      <td>3</td>\n",
       "      <td>P1000</td>\n",
       "      <td>37</td>\n",
       "      <td>1</td>\n",
       "      <td>7</td>\n",
       "      <td>7</td>\n",
       "      <td>7</td>\n",
       "      <td>7</td>\n",
       "      <td>6</td>\n",
       "      <td>7</td>\n",
       "      <td>7</td>\n",
       "      <td>7</td>\n",
       "      <td>7</td>\n",
       "      <td>7</td>\n",
       "      <td>3</td>\n",
       "    </tr>\n",
       "    <tr>\n",
       "      <th>4</th>\n",
       "      <td>4</td>\n",
       "      <td>P101</td>\n",
       "      <td>46</td>\n",
       "      <td>1</td>\n",
       "      <td>6</td>\n",
       "      <td>8</td>\n",
       "      <td>7</td>\n",
       "      <td>7</td>\n",
       "      <td>7</td>\n",
       "      <td>6</td>\n",
       "      <td>7</td>\n",
       "      <td>7</td>\n",
       "      <td>8</td>\n",
       "      <td>7</td>\n",
       "      <td>3</td>\n",
       "    </tr>\n",
       "  </tbody>\n",
       "</table>\n",
       "</div>"
      ],
      "text/plain": [
       "   Unnamed: 0 Patient Id  Age  Gender  Air Pollution  Alcohol use  \\\n",
       "0           0         P1   33       1              2            4   \n",
       "1           1        P10   17       1              3            1   \n",
       "2           2       P100   35       1              4            5   \n",
       "3           3      P1000   37       1              7            7   \n",
       "4           4       P101   46       1              6            8   \n",
       "\n",
       "   Dust Allergy  OccuPational Hazards  Genetic Risk  chronic Lung Disease  \\\n",
       "0             5                     4             3                     2   \n",
       "1             5                     3             4                     2   \n",
       "2             6                     5             5                     4   \n",
       "3             7                     7             6                     7   \n",
       "4             7                     7             7                     6   \n",
       "\n",
       "   Balanced Diet  Obesity  Smoking  Passive Smoker  Cancer Severity  \n",
       "0              2        4        3               2                1  \n",
       "1              2        2        2               4                2  \n",
       "2              6        7        2               3                3  \n",
       "3              7        7        7               7                3  \n",
       "4              7        7        8               7                3  "
      ]
     },
     "execution_count": 39,
     "metadata": {},
     "output_type": "execute_result"
    }
   ],
   "source": [
    "# Read the City and Ride Data\n",
    "cancer_patient_df = pd.read_csv(cancer_patient_to_load)\n",
    "\n",
    "#Display the data table for preview\n",
    "cancer_patient_df.head()"
   ]
  },
  {
   "cell_type": "code",
   "execution_count": 44,
   "id": "c40c315c",
   "metadata": {},
   "outputs": [
    {
     "data": {
      "text/html": [
       "<div>\n",
       "<style scoped>\n",
       "    .dataframe tbody tr th:only-of-type {\n",
       "        vertical-align: middle;\n",
       "    }\n",
       "\n",
       "    .dataframe tbody tr th {\n",
       "        vertical-align: top;\n",
       "    }\n",
       "\n",
       "    .dataframe thead th {\n",
       "        text-align: right;\n",
       "    }\n",
       "</style>\n",
       "<table border=\"1\" class=\"dataframe\">\n",
       "  <thead>\n",
       "    <tr style=\"text-align: right;\">\n",
       "      <th></th>\n",
       "      <th>Unnamed: 0</th>\n",
       "      <th>Patient Id</th>\n",
       "      <th>Age</th>\n",
       "      <th>Gender</th>\n",
       "      <th>Air Pollution</th>\n",
       "      <th>Alcohol use</th>\n",
       "      <th>Dust Allergy</th>\n",
       "      <th>OccuPational Hazards</th>\n",
       "      <th>Genetic Risk</th>\n",
       "      <th>chronic Lung Disease</th>\n",
       "      <th>Balanced Diet</th>\n",
       "      <th>Obesity</th>\n",
       "      <th>Smoking</th>\n",
       "      <th>Passive Smoker</th>\n",
       "      <th>Level</th>\n",
       "    </tr>\n",
       "  </thead>\n",
       "  <tbody>\n",
       "    <tr>\n",
       "      <th>0</th>\n",
       "      <td>0</td>\n",
       "      <td>P1</td>\n",
       "      <td>33</td>\n",
       "      <td>1</td>\n",
       "      <td>2</td>\n",
       "      <td>4</td>\n",
       "      <td>5</td>\n",
       "      <td>4</td>\n",
       "      <td>3</td>\n",
       "      <td>2</td>\n",
       "      <td>2</td>\n",
       "      <td>4</td>\n",
       "      <td>3</td>\n",
       "      <td>2</td>\n",
       "      <td>1</td>\n",
       "    </tr>\n",
       "    <tr>\n",
       "      <th>1</th>\n",
       "      <td>1</td>\n",
       "      <td>P10</td>\n",
       "      <td>17</td>\n",
       "      <td>1</td>\n",
       "      <td>3</td>\n",
       "      <td>1</td>\n",
       "      <td>5</td>\n",
       "      <td>3</td>\n",
       "      <td>4</td>\n",
       "      <td>2</td>\n",
       "      <td>2</td>\n",
       "      <td>2</td>\n",
       "      <td>2</td>\n",
       "      <td>4</td>\n",
       "      <td>2</td>\n",
       "    </tr>\n",
       "    <tr>\n",
       "      <th>2</th>\n",
       "      <td>2</td>\n",
       "      <td>P100</td>\n",
       "      <td>35</td>\n",
       "      <td>1</td>\n",
       "      <td>4</td>\n",
       "      <td>5</td>\n",
       "      <td>6</td>\n",
       "      <td>5</td>\n",
       "      <td>5</td>\n",
       "      <td>4</td>\n",
       "      <td>6</td>\n",
       "      <td>7</td>\n",
       "      <td>2</td>\n",
       "      <td>3</td>\n",
       "      <td>3</td>\n",
       "    </tr>\n",
       "    <tr>\n",
       "      <th>3</th>\n",
       "      <td>3</td>\n",
       "      <td>P1000</td>\n",
       "      <td>37</td>\n",
       "      <td>1</td>\n",
       "      <td>7</td>\n",
       "      <td>7</td>\n",
       "      <td>7</td>\n",
       "      <td>7</td>\n",
       "      <td>6</td>\n",
       "      <td>7</td>\n",
       "      <td>7</td>\n",
       "      <td>7</td>\n",
       "      <td>7</td>\n",
       "      <td>7</td>\n",
       "      <td>3</td>\n",
       "    </tr>\n",
       "    <tr>\n",
       "      <th>4</th>\n",
       "      <td>4</td>\n",
       "      <td>P101</td>\n",
       "      <td>46</td>\n",
       "      <td>1</td>\n",
       "      <td>6</td>\n",
       "      <td>8</td>\n",
       "      <td>7</td>\n",
       "      <td>7</td>\n",
       "      <td>7</td>\n",
       "      <td>6</td>\n",
       "      <td>7</td>\n",
       "      <td>7</td>\n",
       "      <td>8</td>\n",
       "      <td>7</td>\n",
       "      <td>3</td>\n",
       "    </tr>\n",
       "  </tbody>\n",
       "</table>\n",
       "</div>"
      ],
      "text/plain": [
       "   Unnamed: 0 Patient Id  Age  Gender  Air Pollution  Alcohol use  \\\n",
       "0           0         P1   33       1              2            4   \n",
       "1           1        P10   17       1              3            1   \n",
       "2           2       P100   35       1              4            5   \n",
       "3           3      P1000   37       1              7            7   \n",
       "4           4       P101   46       1              6            8   \n",
       "\n",
       "   Dust Allergy  OccuPational Hazards  Genetic Risk  chronic Lung Disease  \\\n",
       "0             5                     4             3                     2   \n",
       "1             5                     3             4                     2   \n",
       "2             6                     5             5                     4   \n",
       "3             7                     7             6                     7   \n",
       "4             7                     7             7                     6   \n",
       "\n",
       "   Balanced Diet  Obesity  Smoking  Passive Smoker  Level  \n",
       "0              2        4        3               2      1  \n",
       "1              2        2        2               4      2  \n",
       "2              6        7        2               3      3  \n",
       "3              7        7        7               7      3  \n",
       "4              7        7        8               7      3  "
      ]
     },
     "execution_count": 44,
     "metadata": {},
     "output_type": "execute_result"
    }
   ],
   "source": [
    "cancer_patient_df = cancer_patient_df.rename(columns={\"Cancer Severity\":\"Level\"})\n",
    "cancer_patient_df.head()"
   ]
  },
  {
   "cell_type": "code",
   "execution_count": 46,
   "id": "1fe7cf22",
   "metadata": {},
   "outputs": [
    {
     "data": {
      "text/plain": [
       "Level\n",
       "1    303\n",
       "2    332\n",
       "3    365\n",
       "Name: Patient Id, dtype: int64"
      ]
     },
     "execution_count": 46,
     "metadata": {},
     "output_type": "execute_result"
    }
   ],
   "source": [
    "#Calculate the total cases grouped by severity level\n",
    "total_cancer = cancer_patient_df.groupby([\"Level\"]).count()[\"Patient Id\"]\n",
    "total_cancer"
   ]
  },
  {
   "cell_type": "code",
   "execution_count": 62,
   "id": "25cefa63",
   "metadata": {},
   "outputs": [
    {
     "data": {
      "image/png": "[encoded data removed]",
      "text/plain": [
       "<Figure size 720x432 with 1 Axes>"
      ]
     },
     "metadata": {},
     "output_type": "display_data"
    }
   ],
   "source": [
    "import matplotlib as mpl\n",
    "\n",
    "plt.subplots(figsize=(10,6))\n",
    "\n",
    "colors = [\"lightblue\", \"Slateblue\", \"mistyrose\"]\n",
    "plt.pie(cancer_patient_df[\"Level\"].value_counts() ,labels=[\"Level 1\",\"Level 2\",\"Level 3\"],\n",
    "       autopct='%1.1f%%',\n",
    "       colors=colors,\n",
    "        shadow=True, startangle=90)\n",
    "plt.axis('equal')\n",
    "plt.title(\"Cancer Severity by Level\")\n",
    "mpl.rcParams['font.size'] = 14\n",
    "\n",
    "plt.savefig(\"Resources/images/SV.png\")\n",
    "plt.show()\n"
   ]
  },
  {
   "cell_type": "code",
   "execution_count": 63,
   "id": "28358628",
   "metadata": {},
   "outputs": [
    {
     "data": {
      "text/plain": [
       "6    326\n",
       "2    201\n",
       "3    173\n",
       "1    141\n",
       "4     90\n",
       "7     30\n",
       "5     20\n",
       "8     19\n",
       "Name: Air Pollution, dtype: int64"
      ]
     },
     "execution_count": 63,
     "metadata": {},
     "output_type": "execute_result"
    }
   ],
   "source": [
    "cancer_patient_df[\"Air Pollution\"].value_counts()"
   ]
  },
  {
   "cell_type": "code",
   "execution_count": 65,
   "id": "2af7a499",
   "metadata": {},
   "outputs": [
    {
     "data": {
      "text/plain": [
       "2    202\n",
       "8    188\n",
       "7    167\n",
       "1    152\n",
       "5     90\n",
       "3     80\n",
       "6     80\n",
       "4     41\n",
       "Name: Alcohol use, dtype: int64"
      ]
     },
     "execution_count": 65,
     "metadata": {},
     "output_type": "execute_result"
    }
   ],
   "source": [
    "cancer_patient_df[\"Alcohol use\"].value_counts()\n"
   ]
  },
  {
   "cell_type": "code",
   "execution_count": 66,
   "id": "f6996a41",
   "metadata": {},
   "outputs": [
    {
     "data": {
      "text/plain": [
       "7    405\n",
       "4    133\n",
       "5    111\n",
       "6    110\n",
       "3    101\n",
       "2     70\n",
       "1     60\n",
       "8     10\n",
       "Name: Dust Allergy, dtype: int64"
      ]
     },
     "execution_count": 66,
     "metadata": {},
     "output_type": "execute_result"
    }
   ],
   "source": [
    "cancer_patient_df[\"Dust Allergy\"].value_counts()"
   ]
  },
  {
   "cell_type": "code",
   "execution_count": 69,
   "id": "0e669e77",
   "metadata": {},
   "outputs": [
    {
     "data": {
      "text/plain": [
       "7    365\n",
       "3    151\n",
       "2    132\n",
       "5    130\n",
       "4    112\n",
       "1     50\n",
       "6     30\n",
       "8     30\n",
       "Name: OccuPational Hazards, dtype: int64"
      ]
     },
     "execution_count": 69,
     "metadata": {},
     "output_type": "execute_result"
    }
   ],
   "source": [
    "cancer_patient_df[\"OccuPational Hazards\"].value_counts()"
   ]
  },
  {
   "cell_type": "code",
   "execution_count": 70,
   "id": "7aef4bfb",
   "metadata": {},
   "outputs": [
    {
     "data": {
      "text/plain": [
       "7    327\n",
       "2    212\n",
       "3    173\n",
       "6    108\n",
       "5    100\n",
       "4     40\n",
       "1     40\n",
       "Name: Genetic Risk, dtype: int64"
      ]
     },
     "execution_count": 70,
     "metadata": {},
     "output_type": "execute_result"
    }
   ],
   "source": [
    "cancer_patient_df[\"Genetic Risk\"].value_counts()"
   ]
  },
  {
   "cell_type": "code",
   "execution_count": 71,
   "id": "93344e53",
   "metadata": {},
   "outputs": [
    {
     "data": {
      "text/plain": [
       "6    308\n",
       "2    173\n",
       "4    141\n",
       "3    141\n",
       "7    107\n",
       "5     80\n",
       "1     50\n",
       "Name: chronic Lung Disease, dtype: int64"
      ]
     },
     "execution_count": 71,
     "metadata": {},
     "output_type": "execute_result"
    }
   ],
   "source": [
    "cancer_patient_df[\"chronic Lung Disease\"].value_counts()"
   ]
  },
  {
   "cell_type": "code",
   "execution_count": 72,
   "id": "db498d3d",
   "metadata": {},
   "outputs": [
    {
     "data": {
      "text/plain": [
       "7    296\n",
       "2    231\n",
       "3    173\n",
       "6    159\n",
       "4     61\n",
       "5     40\n",
       "1     40\n",
       "Name: Balanced Diet, dtype: int64"
      ]
     },
     "execution_count": 72,
     "metadata": {},
     "output_type": "execute_result"
    }
   ],
   "source": [
    "cancer_patient_df[\"Balanced Diet\"].value_counts()"
   ]
  },
  {
   "cell_type": "code",
   "execution_count": 73,
   "id": "43b466ec",
   "metadata": {},
   "outputs": [
    {
     "data": {
      "text/plain": [
       "7    356\n",
       "3    193\n",
       "4    191\n",
       "2    140\n",
       "1     70\n",
       "6     30\n",
       "5     20\n",
       "Name: Obesity, dtype: int64"
      ]
     },
     "execution_count": 73,
     "metadata": {},
     "output_type": "execute_result"
    }
   ],
   "source": [
    "cancer_patient_df[\"Obesity\"].value_counts()"
   ]
  },
  {
   "cell_type": "code",
   "execution_count": 74,
   "id": "35e6d24f",
   "metadata": {},
   "outputs": [
    {
     "data": {
      "text/plain": [
       "2    222\n",
       "7    207\n",
       "1    181\n",
       "3    172\n",
       "8     89\n",
       "6     60\n",
       "4     59\n",
       "5     10\n",
       "Name: Smoking, dtype: int64"
      ]
     },
     "execution_count": 74,
     "metadata": {},
     "output_type": "execute_result"
    }
   ],
   "source": [
    "cancer_patient_df[\"Smoking\"].value_counts()"
   ]
  },
  {
   "cell_type": "code",
   "execution_count": 75,
   "id": "21a7198b",
   "metadata": {},
   "outputs": [
    {
     "data": {
      "text/plain": [
       "2    284\n",
       "7    187\n",
       "4    161\n",
       "3    140\n",
       "8    108\n",
       "1     60\n",
       "6     30\n",
       "5     30\n",
       "Name: Passive Smoker, dtype: int64"
      ]
     },
     "execution_count": 75,
     "metadata": {},
     "output_type": "execute_result"
    }
   ],
   "source": [
    "cancer_patient_df[\"Passive Smoker\"].value_counts()"
   ]
  },
  {
   "cell_type": "code",
   "execution_count": 129,
   "id": "d15dcd84",
   "metadata": {},
   "outputs": [
    {
     "data": {
      "image/png": "[encoded data removed]",
      "text/plain": [
       "<Figure size 1080x720 with 1 Axes>"
      ]
     },
     "metadata": {},
     "output_type": "display_data"
    }
   ],
   "source": [
    "\n",
    "sns.set_theme(style=\"ticks\")\n",
    "f, ax = plt.subplots(figsize = (15,10))\n",
    "sns.despine(f)\n",
    "sns.histplot(\n",
    "   cancer_patient_df, x= \"Level\", hue = \"Smoking\",\n",
    "    multiple=\"stack\",palette=\"light:m_r\",\n",
    "    edgecolor = \"0.3\",\n",
    "    linewidth=\"0.5\"\n",
    ")\n",
    "\n",
    "plt.savefig(\"Resources/images/Smoke.png\")"
   ]
  },
  {
   "cell_type": "code",
   "execution_count": 128,
   "id": "226f8c86",
   "metadata": {},
   "outputs": [
    {
     "data": {
      "image/png": "[encoded data removed]",
      "text/plain": [
       "<Figure size 1080x720 with 1 Axes>"
      ]
     },
     "metadata": {},
     "output_type": "display_data"
    }
   ],
   "source": [
    "\n",
    "sns.set_theme(style=\"ticks\")\n",
    "f, ax = plt.subplots(figsize = (15,10))\n",
    "sns.despine(f)\n",
    "sns.histplot(\n",
    "   cancer_patient_df, x= \"Level\", hue = \"Alcohol use\",\n",
    "    multiple=\"stack\",palette=\"Pastel1_r\",\n",
    "    edgecolor = \"0.3\",\n",
    "    linewidth=\"0.5\"\n",
    ")\n",
    "\n",
    "plt.savefig(\"Resources/images/AU.png\")"
   ]
  },
  {
   "cell_type": "code",
   "execution_count": 130,
   "id": "b6f1fb8c",
   "metadata": {},
   "outputs": [
    {
     "data": {
      "image/png": "[encoded data removed]",
      "text/plain": [
       "<Figure size 1080x720 with 1 Axes>"
      ]
     },
     "metadata": {},
     "output_type": "display_data"
    }
   ],
   "source": [
    "sns.set_theme(style=\"ticks\")\n",
    "f, ax = plt.subplots(figsize = (15,10))\n",
    "sns.despine(f)\n",
    "sns.histplot(\n",
    "   cancer_patient_df, x= \"Level\", hue = \"Passive Smoker\",\n",
    "    multiple=\"stack\",palette=\"Pastel2_r\",\n",
    "    edgecolor = \"0.3\",\n",
    "    linewidth=\"0.5\"\n",
    ")\n",
    "\n",
    "plt.savefig(\"Resources/images/Passive.png\")"
   ]
  },
  {
   "cell_type": "code",
   "execution_count": null,
   "id": "1a22f3ba",
   "metadata": {},
   "outputs": [],
   "source": []
  }
 ],
 "metadata": {
  "kernelspec": {
   "display_name": "PythonData",
   "language": "python",
   "name": "pythondata"
  },
  "language_info": {
   "codemirror_mode": {
    "name": "ipython",
    "version": 3
   },
   "file_extension": ".py",
   "mimetype": "text/x-python",
   "name": "python",
   "nbconvert_exporter": "python",
   "pygments_lexer": "ipython3",
   "version": "3.7.11"
  }
 },
 "nbformat": 4,
 "nbformat_minor": 5
}

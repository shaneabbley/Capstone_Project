{
 "cells": [
  {
   "cell_type": "code",
   "execution_count": 1,
   "id": "645f7b2c",
   "metadata": {},
   "outputs": [],
   "source": [
    "# Dependencies\n",
    "import numpy as np\n",
    "import pandas as pd\n",
    "import sqlite3"
   ]
  },
  {
   "cell_type": "code",
   "execution_count": 2,
   "id": "b55be505",
   "metadata": {},
   "outputs": [],
   "source": [
    "# Create/Connect to Database\n",
    "db = sqlite3.connect('CapstoneDatabase.sqlite')"
   ]
  },
  {
   "cell_type": "code",
   "execution_count": 3,
   "id": "654c2037",
   "metadata": {},
   "outputs": [],
   "source": [
    "# Instantiate Cursor\n",
    "c = db.cursor()"
   ]
  },
  {
   "cell_type": "code",
   "execution_count": 4,
   "id": "ed958296",
   "metadata": {},
   "outputs": [
    {
     "data": {
      "text/plain": [
       "(1000, 14)"
      ]
     },
     "execution_count": 4,
     "metadata": {},
     "output_type": "execute_result"
    }
   ],
   "source": [
    "# Load lifestyle data csv into Pandas dataframe\n",
    "lifestyle_data = pd.read_csv(\"CleanedData.csv\", index_col = 0)\n",
    "lifestyle_data.shape"
   ]
  },
  {
   "cell_type": "code",
   "execution_count": 5,
   "id": "35947626",
   "metadata": {},
   "outputs": [],
   "source": [
    "# Convert dataframe into a list of tuples\n",
    "lifestyle_tuple = tuple(lifestyle_data.itertuples(index=False, name = None))"
   ]
  },
  {
   "cell_type": "code",
   "execution_count": 6,
   "id": "14a9cf86",
   "metadata": {},
   "outputs": [
    {
     "data": {
      "text/plain": [
       "<sqlite3.Cursor at 0x7fb531057f80>"
      ]
     },
     "execution_count": 6,
     "metadata": {},
     "output_type": "execute_result"
    }
   ],
   "source": [
    "# Creating lifestyle table\n",
    "c.execute(\"\"\"CREATE TABLE lifestyle (\n",
    "    patient_id text,\n",
    "    age integer,\n",
    "    gender integer,\n",
    "    air_pollution integer,\n",
    "    alcohol_use integer,\n",
    "    dust_allergy integer,\n",
    "    occupational_hazards integer,\n",
    "    genetic_risk integer,\n",
    "    chronic_lung_disease integer,\n",
    "    balanced_diet integer,\n",
    "    obesity integer,\n",
    "    smoking integer,\n",
    "    passive_smoking integer,\n",
    "    cancer_severity integer\n",
    "    )\"\"\")"
   ]
  },
  {
   "cell_type": "code",
   "execution_count": 7,
   "id": "08c83396",
   "metadata": {},
   "outputs": [
    {
     "data": {
      "text/plain": [
       "<sqlite3.Cursor at 0x7fb531057f80>"
      ]
     },
     "execution_count": 7,
     "metadata": {},
     "output_type": "execute_result"
    }
   ],
   "source": [
    "# Add data to lifestyle table\n",
    "c.executemany(\"INSERT INTO lifestyle VALUES (?,?,?,?,?,?,?,?,?,?,?,?,?,?)\", lifestyle_tuple)"
   ]
  },
  {
   "cell_type": "code",
   "execution_count": 8,
   "id": "dbdc9f71",
   "metadata": {},
   "outputs": [
    {
     "data": {
      "text/plain": [
       "(1000, 15)"
      ]
     },
     "execution_count": 8,
     "metadata": {},
     "output_type": "execute_result"
    }
   ],
   "source": [
    "# Load symptom data csv into Pandas dataframe\n",
    "symptom_data = pd.read_csv(\"CleanedDataSymptoms.csv\", index_col = 0)\n",
    "symptom_data = symptom_data.drop(symptom_data.columns[3:13], axis=1)\n",
    "symptom_data.shape"
   ]
  },
  {
   "cell_type": "code",
   "execution_count": 9,
   "id": "f05572c5",
   "metadata": {},
   "outputs": [],
   "source": [
    "# Convert dataframe into a list of tuples\n",
    "symptom_tuple = tuple(symptom_data.itertuples(index=False, name = None))"
   ]
  },
  {
   "cell_type": "code",
   "execution_count": 10,
   "id": "79c22d42",
   "metadata": {},
   "outputs": [
    {
     "data": {
      "text/plain": [
       "<sqlite3.Cursor at 0x7fb531057f80>"
      ]
     },
     "execution_count": 10,
     "metadata": {},
     "output_type": "execute_result"
    }
   ],
   "source": [
    "# Creating symptom table\n",
    "c.execute(\"\"\"CREATE TABLE symptoms (\n",
    "    patient_id text,\n",
    "    age integer,\n",
    "    gender integer,\n",
    "    chest_pain integer,\n",
    "    coughing_of_blood integer,\n",
    "    fatigue integer,\n",
    "    weight_loss integer,\n",
    "    shortness_of_breath integer,\n",
    "    wheezing integer,\n",
    "    swallowing_difficulty integer,\n",
    "    finger_nail_clubbing integer,\n",
    "    frequent_cold integer,\n",
    "    dry_cough integer,\n",
    "    snoring integer,\n",
    "    cancer_severity integer\n",
    ")\"\"\")"
   ]
  },
  {
   "cell_type": "code",
   "execution_count": 11,
   "id": "b485a71a",
   "metadata": {},
   "outputs": [
    {
     "data": {
      "text/plain": [
       "<sqlite3.Cursor at 0x7fb531057f80>"
      ]
     },
     "execution_count": 11,
     "metadata": {},
     "output_type": "execute_result"
    }
   ],
   "source": [
    "# Add data to symptoms table\n",
    "c.executemany(\"INSERT INTO symptoms VALUES (?,?,?,?,?,?,?,?,?,?,?,?,?,?,?)\", symptom_tuple)"
   ]
  },
  {
   "cell_type": "code",
   "execution_count": 12,
   "id": "70d02f39",
   "metadata": {},
   "outputs": [
    {
     "data": {
      "text/plain": [
       "<sqlite3.Cursor at 0x7fb531057f80>"
      ]
     },
     "execution_count": 12,
     "metadata": {},
     "output_type": "execute_result"
    }
   ],
   "source": [
    "# Create a join table for all patient data\n",
    "c.execute(\"\"\"CREATE TABLE patient (\n",
    "    patient_id text,\n",
    "    age integer,\n",
    "    gender integer,\n",
    "    air_pollution integer,\n",
    "    alcohol_use integer,\n",
    "    dust_allergy integer,\n",
    "    occupational_hazards integer,\n",
    "    genetic_risk integer,\n",
    "    chronic_lung_disease integer,\n",
    "    balanced_diet integer,\n",
    "    obesity integer,\n",
    "    smoking integer,\n",
    "    passive_smoking integer,\n",
    "    chest_pain integer,\n",
    "    coughing_of_blood integer,\n",
    "    fatigue integer,\n",
    "    weight_loss integer,\n",
    "    shortness_of_breath integer,\n",
    "    wheezing integer,\n",
    "    swallowing_difficulty integer,\n",
    "    finger_nail_clubbing integer,\n",
    "    frequent_cold integer,\n",
    "    dry_cough integer,\n",
    "    snoring integer,\n",
    "    cancer_severity integer\n",
    "    )\"\"\")"
   ]
  },
  {
   "cell_type": "code",
   "execution_count": 13,
   "id": "f3c7266d",
   "metadata": {},
   "outputs": [
    {
     "data": {
      "text/plain": [
       "<sqlite3.Cursor at 0x7fb531057f80>"
      ]
     },
     "execution_count": 13,
     "metadata": {},
     "output_type": "execute_result"
    }
   ],
   "source": [
    "# Perform a full outer join on the two tables\n",
    "c.execute(\"\"\"INSERT INTO patient\n",
    "SELECT lifestyle.patient_id, lifestyle.age, lifestyle.gender, air_pollution, alcohol_use, dust_allergy, occupational_hazards, genetic_risk, chronic_lung_disease, balanced_diet, obesity, smoking, passive_smoking, chest_pain, coughing_of_blood, fatigue, weight_loss, shortness_of_breath, wheezing, swallowing_difficulty, finger_nail_clubbing, frequent_cold, dry_cough, snoring, lifestyle.cancer_severity \n",
    "FROM lifestyle \n",
    "LEFT JOIN symptoms\n",
    "USING(cancer_severity)\n",
    "UNION ALL\n",
    "SELECT lifestyle.patient_id, lifestyle.age, lifestyle.gender, air_pollution, alcohol_use, dust_allergy, occupational_hazards, genetic_risk, chronic_lung_disease, balanced_diet, obesity, smoking, passive_smoking, chest_pain, coughing_of_blood, fatigue, weight_loss, shortness_of_breath, wheezing, swallowing_difficulty, finger_nail_clubbing, frequent_cold, dry_cough, snoring, lifestyle.cancer_severity\n",
    "FROM symptoms \n",
    "LEFT JOIN lifestyle\n",
    "USING(cancer_severity)\n",
    "WHERE lifestyle.cancer_severity IS NULL;\"\"\")"
   ]
  },
  {
   "cell_type": "code",
   "execution_count": 14,
   "id": "b8c44813",
   "metadata": {},
   "outputs": [],
   "source": [
    "# Commit changes to the database\n",
    "db.commit()"
   ]
  },
  {
   "cell_type": "code",
   "execution_count": 15,
   "id": "ec78771e",
   "metadata": {},
   "outputs": [],
   "source": [
    "# Close database connection\n",
    "db.close()"
   ]
  },
  {
   "cell_type": "code",
   "execution_count": null,
   "id": "9e6ca835",
   "metadata": {},
   "outputs": [],
   "source": []
  }
 ],
 "metadata": {
  "kernelspec": {
   "display_name": "PythonData",
   "language": "python",
   "name": "pythondata"
  },
  "language_info": {
   "codemirror_mode": {
    "name": "ipython",
    "version": 3
   },
   "file_extension": ".py",
   "mimetype": "text/x-python",
   "name": "python",
   "nbconvert_exporter": "python",
   "pygments_lexer": "ipython3",
   "version": "3.9.7"
  }
 },
 "nbformat": 4,
 "nbformat_minor": 5
}

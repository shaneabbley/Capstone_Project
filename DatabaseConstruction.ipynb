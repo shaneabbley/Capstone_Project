{
 "cells": [
  {
   "cell_type": "code",
   "execution_count": 1,
   "id": "3e054f87",
   "metadata": {},
   "outputs": [],
   "source": [
    "# Dependencies\n",
    "import numpy as np\n",
    "import pandas as pd\n",
    "import sqlite3"
   ]
  },
  {
   "cell_type": "code",
   "execution_count": 2,
   "id": "1719e9af",
   "metadata": {},
   "outputs": [],
   "source": [
    "# Create/Connect to Database\n",
    "db = sqlite3.connect('CapstoneDatabase.sqlite')"
   ]
  },
  {
   "cell_type": "code",
   "execution_count": 3,
   "id": "5e99538e",
   "metadata": {},
   "outputs": [],
   "source": [
    "# Instantiate Cursor\n",
    "c = db.cursor()"
   ]
  },
  {
   "cell_type": "code",
   "execution_count": 4,
   "id": "53869ae7",
   "metadata": {},
   "outputs": [
    {
     "data": {
      "text/plain": [
       "(1000, 14)"
      ]
     },
     "execution_count": 4,
     "metadata": {},
     "output_type": "execute_result"
    }
   ],
   "source": [
    "# Load csv into Pandas dataframe\n",
    "lifestyle_data = pd.read_csv(\"CleanedData.csv\", index_col = 0)\n",
    "lifestyle_data.shape"
   ]
  },
  {
   "cell_type": "code",
   "execution_count": 5,
   "id": "5f93130c",
   "metadata": {},
   "outputs": [],
   "source": [
    "# Convert Dataframe into a list of tuples\n",
    "lifestyle_tuple = tuple(lifestyle_data.itertuples(index=False, name = None))"
   ]
  },
  {
   "cell_type": "code",
   "execution_count": 6,
   "id": "2600aadc",
   "metadata": {},
   "outputs": [
    {
     "data": {
      "text/plain": [
       "<sqlite3.Cursor at 0x7fe21fa57ce0>"
      ]
     },
     "execution_count": 6,
     "metadata": {},
     "output_type": "execute_result"
    }
   ],
   "source": [
    "# Creating Lifestyle Table\n",
    "c.execute(\"\"\"CREATE TABLE lifestyle (\n",
    "    patient_id text,\n",
    "    age integer,\n",
    "    gender integer,\n",
    "    air_pollution integer,\n",
    "    alcohol_use integer,\n",
    "    dust_allergy integer,\n",
    "    occupational_hazards integer,\n",
    "    genetic_risk integer,\n",
    "    chronic_lung_disease integer,\n",
    "    balanced_diet integer,\n",
    "    obesity integer,\n",
    "    smoking integer,\n",
    "    passive_smoking integer,\n",
    "    cancer_severity integer\n",
    "    \n",
    "\n",
    "\n",
    ")\n",
    "\n",
    "\n",
    "\n",
    "\n",
    "\"\"\")"
   ]
  },
  {
   "cell_type": "code",
   "execution_count": 7,
   "id": "da119437",
   "metadata": {},
   "outputs": [
    {
     "data": {
      "text/plain": [
       "<sqlite3.Cursor at 0x7fe21fa57ce0>"
      ]
     },
     "execution_count": 7,
     "metadata": {},
     "output_type": "execute_result"
    }
   ],
   "source": [
    "c.executemany(\"INSERT INTO lifestyle VALUES (?,?,?,?,?,?,?,?,?,?,?,?,?,?)\", lifestyle_tuple)"
   ]
  },
  {
   "cell_type": "code",
   "execution_count": 8,
   "id": "f6dd8443",
   "metadata": {},
   "outputs": [],
   "source": [
    "# Commit changes to the database\n",
    "db.commit()"
   ]
  },
  {
   "cell_type": "code",
   "execution_count": 9,
   "id": "3d4be676",
   "metadata": {},
   "outputs": [],
   "source": [
    "# Close database connection\n",
    "db.close()"
   ]
  },
  {
   "cell_type": "code",
   "execution_count": null,
   "id": "d4554bc8",
   "metadata": {},
   "outputs": [],
   "source": []
  }
 ],
 "metadata": {
  "kernelspec": {
   "display_name": "PythonData",
   "language": "python",
   "name": "pythondata"
  },
  "language_info": {
   "codemirror_mode": {
    "name": "ipython",
    "version": 3
   },
   "file_extension": ".py",
   "mimetype": "text/x-python",
   "name": "python",
   "nbconvert_exporter": "python",
   "pygments_lexer": "ipython3",
   "version": "3.9.7"
  }
 },
 "nbformat": 4,
 "nbformat_minor": 5
}

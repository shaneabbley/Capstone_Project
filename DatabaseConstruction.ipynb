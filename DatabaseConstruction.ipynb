{
 "cells": [
  {
   "cell_type": "code",
   "execution_count": 1,
   "id": "645f7b2c",
   "metadata": {},
   "outputs": [],
   "source": [
    "# Dependencies\n",
    "import numpy as np\n",
    "import pandas as pd\n",
    "import sqlite3"
   ]
  },
  {
   "cell_type": "code",
   "execution_count": 2,
   "id": "b55be505",
   "metadata": {},
   "outputs": [],
   "source": [
    "# Create/Connect to Database\n",
    "db = sqlite3.connect('CapstoneDatabase.sqlite')"
   ]
  },
  {
   "cell_type": "code",
   "execution_count": 3,
   "id": "654c2037",
   "metadata": {},
   "outputs": [],
   "source": [
    "# Instantiate Cursor\n",
    "c = db.cursor()"
   ]
  },
  {
   "cell_type": "code",
   "execution_count": 4,
   "id": "ed958296",
   "metadata": {},
   "outputs": [
    {
     "data": {
      "text/plain": [
       "(1000, 14)"
      ]
     },
     "execution_count": 4,
     "metadata": {},
     "output_type": "execute_result"
    }
   ],
   "source": [
    "# Load lifestyle data csv into Pandas dataframe\n",
    "lifestyle_data = pd.read_csv(\"CleanedData.csv\", index_col = 0)\n",
    "lifestyle_data.shape"
   ]
  },
  {
   "cell_type": "code",
   "execution_count": 5,
   "id": "35947626",
   "metadata": {},
   "outputs": [],
   "source": [
    "# Convert dataframe into a list of tuples\n",
    "lifestyle_tuple = tuple(lifestyle_data.itertuples(index=False, name = None))"
   ]
  },
  {
   "cell_type": "code",
   "execution_count": 6,
   "id": "14a9cf86",
   "metadata": {},
   "outputs": [
    {
     "ename": "OperationalError",
     "evalue": "table lifestyle already exists",
     "output_type": "error",
     "traceback": [
      "\u001b[0;31m---------------------------------------------------------------------------\u001b[0m",
      "\u001b[0;31mOperationalError\u001b[0m                          Traceback (most recent call last)",
      "\u001b[0;32m/var/folders/3k/wb1sw6bn63d94yyh5hx4jyf00000gn/T/ipykernel_32420/3208486205.py\u001b[0m in \u001b[0;36m<module>\u001b[0;34m\u001b[0m\n\u001b[1;32m      1\u001b[0m \u001b[0;31m# Creating lifestyle table\u001b[0m\u001b[0;34m\u001b[0m\u001b[0;34m\u001b[0m\u001b[0m\n\u001b[0;32m----> 2\u001b[0;31m c.execute(\"\"\"CREATE TABLE lifestyle (\n\u001b[0m\u001b[1;32m      3\u001b[0m     \u001b[0mpatient_id\u001b[0m \u001b[0mtext\u001b[0m\u001b[0;34m,\u001b[0m\u001b[0;34m\u001b[0m\u001b[0;34m\u001b[0m\u001b[0m\n\u001b[1;32m      4\u001b[0m     \u001b[0mage\u001b[0m \u001b[0minteger\u001b[0m\u001b[0;34m,\u001b[0m\u001b[0;34m\u001b[0m\u001b[0;34m\u001b[0m\u001b[0m\n\u001b[1;32m      5\u001b[0m     \u001b[0mgender\u001b[0m \u001b[0minteger\u001b[0m\u001b[0;34m,\u001b[0m\u001b[0;34m\u001b[0m\u001b[0;34m\u001b[0m\u001b[0m\n",
      "\u001b[0;31mOperationalError\u001b[0m: table lifestyle already exists"
     ]
    }
   ],
   "source": [
    "# Creating lifestyle table\n",
    "c.execute(\"\"\"CREATE TABLE lifestyle (\n",
    "    patient_id text,\n",
    "    age integer,\n",
    "    gender integer,\n",
    "    air_pollution integer,\n",
    "    alcohol_use integer,\n",
    "    dust_allergy integer,\n",
    "    occupational_hazards integer,\n",
    "    genetic_risk integer,\n",
    "    chronic_lung_disease integer,\n",
    "    balanced_diet integer,\n",
    "    obesity integer,\n",
    "    smoking integer,\n",
    "    passive_smoking integer,\n",
    "    cancer_severity integer\n",
    "    )\"\"\")"
   ]
  },
  {
   "cell_type": "code",
   "execution_count": null,
   "id": "08c83396",
   "metadata": {},
   "outputs": [],
   "source": [
    "# Add data to lifestyle table\n",
    "c.executemany(\"INSERT INTO lifestyle VALUES (?,?,?,?,?,?,?,?,?,?,?,?,?,?)\", lifestyle_tuple)"
   ]
  },
  {
   "cell_type": "code",
   "execution_count": 7,
   "id": "dbdc9f71",
   "metadata": {},
   "outputs": [
    {
     "data": {
      "text/plain": [
       "(1000, 15)"
      ]
     },
     "execution_count": 7,
     "metadata": {},
     "output_type": "execute_result"
    }
   ],
   "source": [
    "# Load symptom data csv into Pandas dataframe\n",
    "symptom_data = pd.read_csv(\"CleanedDataSymptoms.csv\", index_col = 0)\n",
    "symptom_data = symptom_data.drop(symptom_data.columns[3:13], axis=1)\n",
    "symptom_data.shape"
   ]
  },
  {
   "cell_type": "code",
   "execution_count": 8,
   "id": "f05572c5",
   "metadata": {},
   "outputs": [],
   "source": [
    "# Convert dataframe into a list of tuples\n",
    "symptom_tuple = tuple(symptom_data.itertuples(index=False, name = None))"
   ]
  },
  {
   "cell_type": "code",
   "execution_count": 9,
   "id": "79c22d42",
   "metadata": {},
   "outputs": [
    {
     "data": {
      "text/plain": [
       "<sqlite3.Cursor at 0x7fa05f557f80>"
      ]
     },
     "execution_count": 9,
     "metadata": {},
     "output_type": "execute_result"
    }
   ],
   "source": [
    "# Creating symptom table\n",
    "c.execute(\"\"\"CREATE TABLE symptoms (\n",
    "    patient_id text,\n",
    "    age integer,\n",
    "    gender integer,\n",
    "    chest_pain integer,\n",
    "    coughing_of_blood integer,\n",
    "    fatigue integer,\n",
    "    weight_loss integer,\n",
    "    shortness_of_breath integer,\n",
    "    wheezing integer,\n",
    "    swallowing_difficulty integer,\n",
    "    finger_nail_clubbing integer,\n",
    "    frequent_cold integer,\n",
    "    dry_cough integer,\n",
    "    snoring integer,\n",
    "    cancer_severity integer\n",
    ")\"\"\")"
   ]
  },
  {
   "cell_type": "code",
   "execution_count": 10,
   "id": "b485a71a",
   "metadata": {},
   "outputs": [
    {
     "data": {
      "text/plain": [
       "<sqlite3.Cursor at 0x7fa05f557f80>"
      ]
     },
     "execution_count": 10,
     "metadata": {},
     "output_type": "execute_result"
    }
   ],
   "source": [
    "# Add data to symptoms table\n",
    "c.executemany(\"INSERT INTO symptoms VALUES (?,?,?,?,?,?,?,?,?,?,?,?,?,?,?)\", symptom_tuple)"
   ]
  },
  {
   "cell_type": "code",
   "execution_count": 11,
   "id": "b8c44813",
   "metadata": {},
   "outputs": [],
   "source": [
    "# Commit changes to the database\n",
    "db.commit()"
   ]
  },
  {
   "cell_type": "code",
   "execution_count": 12,
   "id": "ec78771e",
   "metadata": {},
   "outputs": [],
   "source": [
    "# Close database connection\n",
    "db.close()"
   ]
  },
  {
   "cell_type": "code",
   "execution_count": null,
   "id": "9e6ca835",
   "metadata": {},
   "outputs": [],
   "source": []
  }
 ],
 "metadata": {
  "kernelspec": {
   "display_name": "PythonData",
   "language": "python",
   "name": "pythondata"
  },
  "language_info": {
   "codemirror_mode": {
    "name": "ipython",
    "version": 3
   },
   "file_extension": ".py",
   "mimetype": "text/x-python",
   "name": "python",
   "nbconvert_exporter": "python",
   "pygments_lexer": "ipython3",
   "version": "3.9.7"
  }
 },
 "nbformat": 4,
 "nbformat_minor": 5
}

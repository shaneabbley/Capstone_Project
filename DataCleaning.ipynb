{
 "cells": [
  {
   "cell_type": "markdown",
   "id": "1ecbf2ed",
   "metadata": {},
   "source": [
    "# Data Cleaning"
   ]
  },
  {
   "cell_type": "code",
   "execution_count": 1,
   "id": "e7ff0728",
   "metadata": {},
   "outputs": [],
   "source": [
    "# Import Pandas dependencies\n",
    "import pandas as pd"
   ]
  },
  {
   "cell_type": "code",
   "execution_count": 2,
   "id": "b105d045",
   "metadata": {},
   "outputs": [
    {
     "data": {
      "text/plain": [
       "(1000, 25)"
      ]
     },
     "execution_count": 2,
     "metadata": {},
     "output_type": "execute_result"
    }
   ],
   "source": [
    "# Load csv into Pandas dataframe\n",
    "raw_data = pd.read_csv(\"RawData.csv\")\n",
    "raw_data.shape"
   ]
  },
  {
   "cell_type": "code",
   "execution_count": 3,
   "id": "22ecfbac",
   "metadata": {},
   "outputs": [
    {
     "data": {
      "text/plain": [
       "(1000, 14)"
      ]
     },
     "execution_count": 3,
     "metadata": {},
     "output_type": "execute_result"
    }
   ],
   "source": [
    "# Remove symptoms columns from dataframe\n",
    "nosymptomdf = raw_data.drop(raw_data.iloc[:, 13:24], axis=1)\n",
    "nosymptomdf.shape"
   ]
  },
  {
   "cell_type": "code",
   "execution_count": 4,
   "id": "26dbee9d",
   "metadata": {},
   "outputs": [],
   "source": [
    "# Rename \"Level\" column to \"Cancer Severity\"\n",
    "nosymptomdf = nosymptomdf.rename(columns={\"Level\":\"Cancer Severity\"})"
   ]
  },
  {
   "cell_type": "code",
   "execution_count": 5,
   "id": "8819e132",
   "metadata": {},
   "outputs": [],
   "source": [
    "# Iterate through rows to convert Cancer Severity to integer values\n",
    "CancerSeverity = nosymptomdf[\"Cancer Severity\"].map({\"Low\":1,\"Medium\":2,\"High\":3})"
   ]
  },
  {
   "cell_type": "code",
   "execution_count": 6,
   "id": "c03f1369",
   "metadata": {},
   "outputs": [],
   "source": [
    "# Export Cleaned Data\n",
    "cleaned_data = nosymptomdf\n",
    "cleaned_data[\"Cancer Severity\"] = CancerSeverity\n",
    "cleaned_data.to_csv(\"CleanedData.csv\")"
   ]
  },
  {
   "cell_type": "markdown",
   "id": "913f18f9",
   "metadata": {},
   "source": [
    "# Part II\n",
    "##### We decided to also use the symptoms to create a database to be presented on our dashboard; therefore, I am creating another cleaned data file that contains the symptoms."
   ]
  },
  {
   "cell_type": "code",
   "execution_count": 7,
   "id": "7778caef",
   "metadata": {},
   "outputs": [],
   "source": [
    "# Rename \"Level\" column to \"Cancer Severity\"\n",
    "symptomdf = raw_data.rename(columns={\"Level\":\"Cancer Severity\"})"
   ]
  },
  {
   "cell_type": "code",
   "execution_count": 8,
   "id": "538c35e3",
   "metadata": {},
   "outputs": [],
   "source": [
    "# Export Cleaned Data\n",
    "cleaned_data_with_symptoms = symptomdf\n",
    "cleaned_data_with_symptoms[\"Cancer Severity\"] = CancerSeverity\n",
    "cleaned_data_with_symptoms.to_csv(\"CleanedDataSymptoms.csv\")"
   ]
  }
 ],
 "metadata": {
  "kernelspec": {
   "display_name": "PythonData",
   "language": "python",
   "name": "pythondata"
  },
  "language_info": {
   "codemirror_mode": {
    "name": "ipython",
    "version": 3
   },
   "file_extension": ".py",
   "mimetype": "text/x-python",
   "name": "python",
   "nbconvert_exporter": "python",
   "pygments_lexer": "ipython3",
   "version": "3.9.7"
  }
 },
 "nbformat": 4,
 "nbformat_minor": 5
}
